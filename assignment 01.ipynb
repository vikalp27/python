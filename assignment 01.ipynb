{
 "cells": [
  {
   "cell_type": "code",
   "execution_count": 2,
   "id": "882e4d16-245e-463a-8fa1-e755815b7253",
   "metadata": {},
   "outputs": [
    {
     "data": {
      "text/plain": [
       "int"
      ]
     },
     "execution_count": 2,
     "metadata": {},
     "output_type": "execute_result"
    }
   ],
   "source": [
    "# 1. In the below elements which of them are values or an expression? eg:- values can be\n",
    "# integer or string and expressions will be mathematical operators.\n",
    "# *\n",
    "# 'hello'\n",
    "# -87.8\n",
    "# -\n",
    "# /\n",
    "# +\n",
    "# 6\n",
    "n = 2*3   \n",
    "type(n) \t\n",
    "# Expression\n",
    "\n",
    "    \n"
   ]
  },
  {
   "cell_type": "code",
   "execution_count": 3,
   "id": "9c853bd8-3723-4e11-ad44-ec6b710916c6",
   "metadata": {},
   "outputs": [
    {
     "data": {
      "text/plain": [
       "str"
      ]
     },
     "execution_count": 3,
     "metadata": {},
     "output_type": "execute_result"
    }
   ],
   "source": [
    "n = 'hello' \n",
    "type(n)\n",
    "# Value"
   ]
  },
  {
   "cell_type": "code",
   "execution_count": 4,
   "id": "4d77be3b-9b7f-46a9-aad1-45591d78987c",
   "metadata": {},
   "outputs": [
    {
     "data": {
      "text/plain": [
       "float"
      ]
     },
     "execution_count": 4,
     "metadata": {},
     "output_type": "execute_result"
    }
   ],
   "source": [
    "n = -87.8\n",
    "type(n)\n",
    "# Value"
   ]
  },
  {
   "cell_type": "code",
   "execution_count": 5,
   "id": "961ded4f-2213-4a0a-ac2c-05555a3bcbf4",
   "metadata": {},
   "outputs": [
    {
     "name": "stdout",
     "output_type": "stream",
     "text": [
      "<class 'int'>\n"
     ]
    }
   ],
   "source": [
    "n = 7-2\n",
    "print(type(n))\n",
    "# Expression"
   ]
  },
  {
   "cell_type": "code",
   "execution_count": 6,
   "id": "9f6cc300-fef1-4345-a17a-10f880681ae2",
   "metadata": {},
   "outputs": [
    {
     "name": "stdout",
     "output_type": "stream",
     "text": [
      "<class 'float'>\n"
     ]
    }
   ],
   "source": [
    "n = 15/3\n",
    "print(type(n))\n",
    "# Expression"
   ]
  },
  {
   "cell_type": "code",
   "execution_count": 7,
   "id": "edc8d4ac-9890-4b16-bd92-4e865c9be0ad",
   "metadata": {},
   "outputs": [
    {
     "name": "stdout",
     "output_type": "stream",
     "text": [
      "<class 'int'>\n"
     ]
    }
   ],
   "source": [
    "n = 1+8\n",
    "print(type(n))\n",
    "# Expression"
   ]
  },
  {
   "cell_type": "code",
   "execution_count": 8,
   "id": "4a35e370-f772-4a27-9fad-2e3405696e49",
   "metadata": {},
   "outputs": [
    {
     "name": "stdout",
     "output_type": "stream",
     "text": [
      "<class 'int'>\n"
     ]
    }
   ],
   "source": [
    "n = 6\n",
    "print(type(n))\n",
    "# Value"
   ]
  },
  {
   "cell_type": "code",
   "execution_count": null,
   "id": "2c7d2f47-1ae4-425f-99e8-d0390084fbed",
   "metadata": {},
   "outputs": [],
   "source": [
    "# 2.What is the difference between string and variable?\n",
    "\n",
    "A string is a value.\n",
    "\n",
    "It is a sequence of characters enclosed in quotes (' ' or \" \").\n",
    "\n",
    "\n"
   ]
  },
  {
   "cell_type": "code",
   "execution_count": 10,
   "id": "6ece0ce0-5fb8-4ae6-9e92-63030dfda6d3",
   "metadata": {},
   "outputs": [
    {
     "data": {
      "text/plain": [
       "str"
      ]
     },
     "execution_count": 10,
     "metadata": {},
     "output_type": "execute_result"
    }
   ],
   "source": [
    "\"hello\"\n",
    "type('hello')"
   ]
  },
  {
   "cell_type": "code",
   "execution_count": null,
   "id": "c2ec0f67-9476-47e0-a913-b0a2b45c662b",
   "metadata": {},
   "outputs": [],
   "source": [
    "A variable is a name that stores a value (such as a string, number, etc).\n",
    "Create a variable by assigning a value to it using the = operator.         \n"
   ]
  },
  {
   "cell_type": "code",
   "execution_count": 11,
   "id": "85ba0332-41ce-4959-b271-732b1bc78573",
   "metadata": {},
   "outputs": [
    {
     "name": "stdout",
     "output_type": "stream",
     "text": [
      "suman\n"
     ]
    }
   ],
   "source": [
    "name = \"suman\"\n",
    "print(name) \n",
    "n = 52\n",
    "# name,n is a variable"
   ]
  },
  {
   "cell_type": "code",
   "execution_count": null,
   "id": "08324a1c-b1f5-4e10-bc90-3fb20682fa6c",
   "metadata": {},
   "outputs": [],
   "source": [
    "# 3. Describe three different data types.\n",
    "1.Integer (int)\n",
    "2.String (str)\n",
    "3.List (list)"
   ]
  },
  {
   "cell_type": "code",
   "execution_count": 12,
   "id": "87fa7e33-6619-4c75-a206-cc9def521ca2",
   "metadata": {},
   "outputs": [
    {
     "data": {
      "text/plain": [
       "int"
      ]
     },
     "execution_count": 12,
     "metadata": {},
     "output_type": "execute_result"
    }
   ],
   "source": [
    "# 1.Integer\n",
    "# Represents whole numbers (no decimals).\n",
    "age = 25\n",
    "type(age)"
   ]
  },
  {
   "cell_type": "code",
   "execution_count": 13,
   "id": "5a7a08d2-63e8-494a-a1f5-19b18c65d851",
   "metadata": {},
   "outputs": [
    {
     "data": {
      "text/plain": [
       "str"
      ]
     },
     "execution_count": 13,
     "metadata": {},
     "output_type": "execute_result"
    }
   ],
   "source": [
    "# 2.String\n",
    "# Represents text data.\n",
    "name = \"Suman\"\n",
    "type(name)"
   ]
  },
  {
   "cell_type": "code",
   "execution_count": 14,
   "id": "72250064-0030-4505-9ad6-bcff27e71290",
   "metadata": {},
   "outputs": [
    {
     "data": {
      "text/plain": [
       "list"
      ]
     },
     "execution_count": 14,
     "metadata": {},
     "output_type": "execute_result"
    }
   ],
   "source": [
    "# 3.List\n",
    "# A list is a collection of multiple items stored in a single variable.\n",
    "fruits = ['Apple','Banana','Orange']\n",
    "type(fruits)"
   ]
  },
  {
   "cell_type": "code",
   "execution_count": null,
   "id": "381a5b63-910f-46c3-89c7-f7a8bafccc5e",
   "metadata": {},
   "outputs": [],
   "source": [
    "# 4.What is an expression made up of? What do all expressions do?\n",
    "An expression is made up of values, variables, and operators that combine to produce a result.\n",
    "\n",
    "Values – numbers or strings\n",
    "Example: 5, 'hello', 3.14\n",
    "\n",
    "Variables – names that store values\n",
    "Example: x, total, message\n",
    "\n",
    "Operators – symbols that perform operations\n",
    "Example: +, -, *, /, =="
   ]
  },
  {
   "cell_type": "code",
   "execution_count": 16,
   "id": "a27ec9a9-8ba0-4977-b537-45ff68ebf0af",
   "metadata": {},
   "outputs": [
    {
     "name": "stdout",
     "output_type": "stream",
     "text": [
      "9\n"
     ]
    }
   ],
   "source": [
    "n = 5 + 4\n",
    "print(n)"
   ]
  },
  {
   "cell_type": "code",
   "execution_count": 17,
   "id": "015ae6fb-28a2-4ac0-be0c-0a09fd31fe3f",
   "metadata": {},
   "outputs": [
    {
     "name": "stdout",
     "output_type": "stream",
     "text": [
      "vikalpahlawat\n"
     ]
    }
   ],
   "source": [
    "n = \"vikalp\"\n",
    "m = \"ahlawat\"\n",
    "print(n + m)"
   ]
  },
  {
   "cell_type": "code",
   "execution_count": null,
   "id": "cb776053-707f-45a2-9758-ac3538145621",
   "metadata": {},
   "outputs": [],
   "source": [
    "All expressions evaluate to a single value.\n",
    "That value can be a number, string, boolean, etc."
   ]
  },
  {
   "cell_type": "code",
   "execution_count": null,
   "id": "db4e82f5-04e2-409e-b7d3-77044ebe082e",
   "metadata": {},
   "outputs": [],
   "source": [
    "# 5. This assignment statements, like spam = 10. What is the difference between an expression and a statement?"
   ]
  },
  {
   "cell_type": "code",
   "execution_count": null,
   "id": "57af309b-030d-456a-b014-5ac2c5d55e65",
   "metadata": {},
   "outputs": [],
   "source": [
    "spam = 10\n",
    "This is an assignment statement.\n",
    "It assigns the value 10 to the variable spam.\n",
    "All expressions can be part of a statement, but not all statements are expressions."
   ]
  },
  {
   "cell_type": "code",
   "execution_count": null,
   "id": "53f57111-a8b5-4bea-9fd1-d5720eb1c6fa",
   "metadata": {},
   "outputs": [],
   "source": [
    "# 6. After running the following code, what does the variable bacon contain?\n",
    "# bacon = 22\n",
    "# bacon + 1"
   ]
  },
  {
   "cell_type": "code",
   "execution_count": 18,
   "id": "c410c239-f463-4028-894f-553b3d214baa",
   "metadata": {},
   "outputs": [
    {
     "name": "stdout",
     "output_type": "stream",
     "text": [
      "22\n"
     ]
    }
   ],
   "source": [
    "bacon = 22\n",
    "print(bacon)\n",
    "# Assigns the value 22 to the variable 'bacon'"
   ]
  },
  {
   "cell_type": "code",
   "execution_count": 22,
   "id": "94e91e2c-f40b-4ad2-b8d7-89eadc4a0386",
   "metadata": {},
   "outputs": [],
   "source": [
    "bacon + 1\n",
    "# Evaluates to 23, but does NOT change 'bacon'\n",
    "bacon = bacon + 1   # Now bacon becomes 23"
   ]
  },
  {
   "cell_type": "code",
   "execution_count": 24,
   "id": "3ce8ab90-00c9-4492-8575-9c7f3682f33e",
   "metadata": {},
   "outputs": [],
   "source": [
    "# 7. What should the values of the following two terms be?\n",
    "# 'spam' + 'spamspam'\n",
    "# 'spam' * 3"
   ]
  },
  {
   "cell_type": "code",
   "execution_count": 25,
   "id": "f90ab2eb-8818-493f-9fb9-d0f2e0c9afff",
   "metadata": {},
   "outputs": [
    {
     "name": "stdout",
     "output_type": "stream",
     "text": [
      "spamspamspam\n"
     ]
    }
   ],
   "source": [
    "n = 'spam'+'spamspam'\n",
    "print(n)"
   ]
  },
  {
   "cell_type": "code",
   "execution_count": 26,
   "id": "fd194e7e-db5d-45c8-85cf-4efb3fedd7d0",
   "metadata": {},
   "outputs": [
    {
     "name": "stdout",
     "output_type": "stream",
     "text": [
      "spamspamspam\n"
     ]
    }
   ],
   "source": [
    "n = 'spam'* 3\n",
    "print(n)"
   ]
  },
  {
   "cell_type": "code",
   "execution_count": null,
   "id": "02f6b3a6-5c3e-413f-b65f-77c19378eae6",
   "metadata": {},
   "outputs": [],
   "source": [
    "It starts with a letter (e)\n",
    "Contains only letters (and it could also include numbers or underscores _)\n",
    "Follows Python's variable naming rules\n",
    "So eggs is a valid and proper variable name."
   ]
  },
  {
   "cell_type": "code",
   "execution_count": null,
   "id": "4b4b5a1b-2238-4feb-a4fc-8f976f2188fb",
   "metadata": {},
   "outputs": [],
   "source": [
    "eggs = 5\n",
    "print(eggs)"
   ]
  },
  {
   "cell_type": "code",
   "execution_count": 29,
   "id": "4fb10966-5af4-449f-b8bc-60a06607b649",
   "metadata": {},
   "outputs": [
    {
     "ename": "SyntaxError",
     "evalue": "cannot assign to literal here. Maybe you meant '==' instead of '='? (1124802956.py, line 3)",
     "output_type": "error",
     "traceback": [
      "\u001b[1;36m  Cell \u001b[1;32mIn[29], line 3\u001b[1;36m\u001b[0m\n\u001b[1;33m    100 = \"vikalp\"\u001b[0m\n\u001b[1;37m    ^\u001b[0m\n\u001b[1;31mSyntaxError\u001b[0m\u001b[1;31m:\u001b[0m cannot assign to literal here. Maybe you meant '==' instead of '='?\n"
     ]
    }
   ],
   "source": [
    "# It starts with a number, which is not allowed in Python for variable names.\n",
    "# Python will give a SyntaxError if you try something like:\n",
    "100 = \"vikalp\"\n",
    "print(100)"
   ]
  },
  {
   "cell_type": "code",
   "execution_count": null,
   "id": "9effc0f6-a8fc-4d63-aa9d-47417fd67cb9",
   "metadata": {},
   "outputs": [],
   "source": [
    "# 9.What three functions can be used to get the integer, floating-point number, or string  version of a value?"
   ]
  },
  {
   "cell_type": "code",
   "execution_count": null,
   "id": "22a10935-aab4-42fa-b723-6a14930bada0",
   "metadata": {},
   "outputs": [],
   "source": [
    "Integer int()\n",
    "Floating-point number float()\n",
    "String str()"
   ]
  },
  {
   "cell_type": "code",
   "execution_count": 31,
   "id": "13d92225-e156-4fdb-aaae-df0c2154361c",
   "metadata": {},
   "outputs": [
    {
     "data": {
      "text/plain": [
       "4"
      ]
     },
     "execution_count": 31,
     "metadata": {},
     "output_type": "execute_result"
    }
   ],
   "source": [
    "int('4')"
   ]
  },
  {
   "cell_type": "code",
   "execution_count": 32,
   "id": "793a1647-ac0f-406c-b009-684fc373d01b",
   "metadata": {},
   "outputs": [
    {
     "data": {
      "text/plain": [
       "3.14"
      ]
     },
     "execution_count": 32,
     "metadata": {},
     "output_type": "execute_result"
    }
   ],
   "source": [
    "float('3.14')"
   ]
  },
  {
   "cell_type": "code",
   "execution_count": 33,
   "id": "5ee07f66-3734-4975-bb06-ebee9153b675",
   "metadata": {},
   "outputs": [
    {
     "data": {
      "text/plain": [
       "'100'"
      ]
     },
     "execution_count": 33,
     "metadata": {},
     "output_type": "execute_result"
    }
   ],
   "source": [
    "str(100)"
   ]
  },
  {
   "cell_type": "code",
   "execution_count": null,
   "id": "bddebc0f-69e3-410a-b6a0-6093f1bcbd81",
   "metadata": {},
   "outputs": [],
   "source": [
    "# 10. Why does this expression cause an error? How can you fix it?\n",
    "# 'I have eaten'  + 99 + 'burritos'."
   ]
  },
  {
   "cell_type": "code",
   "execution_count": null,
   "id": "c754b94c-0cd5-47cf-8fa6-cf2792e8a066",
   "metadata": {},
   "outputs": [],
   "source": [
    "# Python does not allow mixing strings and integers in concatenation using +.\n",
    "# We convert integer to str then we concatenat."
   ]
  },
  {
   "cell_type": "code",
   "execution_count": 34,
   "id": "be9b96b7-7761-43da-bca1-065d7f058e2c",
   "metadata": {},
   "outputs": [
    {
     "data": {
      "text/plain": [
       "'I have eaten 99 burritos'"
      ]
     },
     "execution_count": 34,
     "metadata": {},
     "output_type": "execute_result"
    }
   ],
   "source": [
    "'I have eaten' ' ' + str(99)  + ' ' 'burritos'"
   ]
  },
  {
   "cell_type": "code",
   "execution_count": 35,
   "id": "24e292d5-21f6-495d-bfb9-814c05ef9d48",
   "metadata": {},
   "outputs": [
    {
     "name": "stdout",
     "output_type": "stream",
     "text": [
      "I have eaten 99 burritos\n"
     ]
    }
   ],
   "source": [
    "print(f'I have eaten {99} burritos')"
   ]
  },
  {
   "cell_type": "code",
   "execution_count": null,
   "id": "d86a1b7e-be95-4e5e-b333-4a4322d49be3",
   "metadata": {},
   "outputs": [],
   "source": []
  }
 ],
 "metadata": {
  "kernelspec": {
   "display_name": "Python 3 (ipykernel)",
   "language": "python",
   "name": "python3"
  },
  "language_info": {
   "codemirror_mode": {
    "name": "ipython",
    "version": 3
   },
   "file_extension": ".py",
   "mimetype": "text/x-python",
   "name": "python",
   "nbconvert_exporter": "python",
   "pygments_lexer": "ipython3",
   "version": "3.12.7"
  }
 },
 "nbformat": 4,
 "nbformat_minor": 5
}
