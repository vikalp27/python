{
 "cells": [
  {
   "cell_type": "code",
   "execution_count": 3,
   "id": "a970fe5b-3352-4ea2-a25a-e958f3be0f8a",
   "metadata": {},
   "outputs": [
    {
     "name": "stdin",
     "output_type": "stream",
     "text": [
      "Enter the candidate's address:  nainital\n",
      "Enter the candidate's full name:  vikalp\n",
      "Enter the candidate's post or designation:  data analyst\n",
      "Enter the CTC offered:  150000\n",
      "Enter the candidate's email:  vikalp23@gmail.com\n",
      "Enter the date of joining:  12/06/2025\n",
      "Enter the respective person's name (e.g.,HR Manager):  rohit\n"
     ]
    },
    {
     "name": "stdout",
     "output_type": "stream",
     "text": [
      "\n",
      "nainital\n",
      "\n",
      "Dear vikalp,\n",
      "\n",
      "Subject: Offer of Employment for the position of data analyst\n",
      "\n",
      "We are delighted to extend this formal offer of employment to you for the position of data analyst at our organization. Based on your qualifications and the skills you demonstrated during the recruitment process, we are confident that you will be a valuable addition to our team.\n",
      "\n",
      "As discussed, your expected date of joining is 12/06/2025. Your total compensation package will be 150000, which includes all salary components as per the company’s policy. Further details regarding your compensation will be provided in your employment contract.\n",
      "\n",
      "We expect you to bring your best efforts to help the company achieve its goals, and we are committed to supporting your professional growth during your time with us.\n",
      "\n",
      "Please confirm your acceptance of this offer by sending an email to vikalp23@gmail.com at your earliest convenience. Should you have any queries regarding this offer, feel free to reach out to us.\n",
      "\n",
      "We look forward to having you onboard and are excited about the great things we can accomplish together.\n",
      "\n",
      "Sincerely,\n",
      "\n",
      "rohit\n",
      "HR Manager\n",
      "\n"
     ]
    }
   ],
   "source": [
    "address = input(\"Enter the candidate's address: \")\n",
    "full_name = input(\"Enter the candidate's full name: \")\n",
    "designation = input(\"Enter the candidate's post or designation: \")\n",
    "ctc = input(\"Enter the CTC offered: \")\n",
    "email = input(\"Enter the candidate's email: \")\n",
    "date_of_joining = input(\"Enter the date of joining: \")\n",
    "respective_person = input(\"Enter the respective person's name (e.g.,HR Manager): \")\n",
    "\n",
    "Offer_letter =  f\"\"\"\n",
    "{address}\n",
    "\n",
    "Dear {full_name},\n",
    "\n",
    "Subject: Offer of Employment for the position of {designation}\n",
    "\n",
    "We are delighted to extend this formal offer of employment to you for the position of {designation} at our organization. Based on your qualifications and the skills you demonstrated during the recruitment process, we are confident that you will be a valuable addition to our team.\n",
    "\n",
    "As discussed, your expected date of joining is {date_of_joining}. Your total compensation package will be {ctc}, which includes all salary components as per the company’s policy. Further details regarding your compensation will be provided in your employment contract.\n",
    "\n",
    "We expect you to bring your best efforts to help the company achieve its goals, and we are committed to supporting your professional growth during your time with us.\n",
    "\n",
    "Please confirm your acceptance of this offer by sending an email to {email} at your earliest convenience. Should you have any queries regarding this offer, feel free to reach out to us.\n",
    "\n",
    "We look forward to having you onboard and are excited about the great things we can accomplish together.\n",
    "\n",
    "Sincerely,\n",
    "\n",
    "{respective_person}\n",
    "HR Manager\n",
    "\"\"\"\n",
    "print(Offer_letter)"
   ]
  },
  {
   "cell_type": "code",
   "execution_count": null,
   "id": "a59fe3bd-eaf3-4194-96b9-9f038f0fe783",
   "metadata": {},
   "outputs": [],
   "source": []
  }
 ],
 "metadata": {
  "kernelspec": {
   "display_name": "Python 3 (ipykernel)",
   "language": "python",
   "name": "python3"
  },
  "language_info": {
   "codemirror_mode": {
    "name": "ipython",
    "version": 3
   },
   "file_extension": ".py",
   "mimetype": "text/x-python",
   "name": "python",
   "nbconvert_exporter": "python",
   "pygments_lexer": "ipython3",
   "version": "3.12.7"
  }
 },
 "nbformat": 4,
 "nbformat_minor": 5
}
