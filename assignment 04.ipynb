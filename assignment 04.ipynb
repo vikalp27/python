{
 "cells": [
  {
   "cell_type": "markdown",
   "id": "ace36788-d72f-463c-abeb-54f0f881a845",
   "metadata": {},
   "source": [
    "Q1. Write a program to calculate the electricity bill using only if statement? (accept number of unit from user) according to the following criteria:\n",
    "\n",
    "Unit Price First 100 units no charge Next 100 units Rs 5 per unit After 200 units Rs 10 per unit (For example, if input unit is 350 than total bill amount is Rs2000). Lets explain... For first 100 no charges Now you have 250 unit remaining 100-200 you need to pay – 1005 = 500 Now 200-100 you need to pay 15010 = 1500 Total = 500+1500 = 2000"
   ]
  },
  {
   "cell_type": "code",
   "execution_count": 1,
   "id": "8d657ba6-0b74-404d-9083-0f4d248567ef",
   "metadata": {},
   "outputs": [
    {
     "name": "stdin",
     "output_type": "stream",
     "text": [
      "Enter number of units consumed:  500\n"
     ]
    },
    {
     "name": "stdout",
     "output_type": "stream",
     "text": [
      "Total Electricity Bill: Rs 3500\n"
     ]
    }
   ],
   "source": [
    "units = int(input(\"Enter number of units consumed:\"))\n",
    "\n",
    "bill = 0\n",
    "\n",
    "if units > 200:\n",
    "    bill += (units - 200) * 10\n",
    "    units = 200\n",
    "    \n",
    "if units > 100:\n",
    "    bill += (units - 100) * 5\n",
    "    units = 100\n",
    "    \n",
    "if units <= 100:\n",
    "    bill += 0\n",
    "\n",
    "print(\"Total Electricity Bill: Rs\",bill)\n",
    "    "
   ]
  },
  {
   "cell_type": "code",
   "execution_count": null,
   "id": "1ff81829-2659-41f3-bc3f-b29af1eaa18d",
   "metadata": {},
   "outputs": [],
   "source": [
    "Q2. Write a program to accept percentage from the user and display the grade according to the following criteria:\n",
    "\n",
    "Marks Grade\n",
    "\n",
    "90 A 80 and <= 90 B = 60 and <= 80 C below 60 D"
   ]
  },
  {
   "cell_type": "code",
   "execution_count": 2,
   "id": "0b868461-0707-4d78-80ed-843ed41e230a",
   "metadata": {},
   "outputs": [
    {
     "name": "stdin",
     "output_type": "stream",
     "text": [
      "Enter your percentage:  60\n"
     ]
    },
    {
     "name": "stdout",
     "output_type": "stream",
     "text": [
      "Grade: C\n"
     ]
    }
   ],
   "source": [
    "percentage = float(input(\"Enter your percentage: \"))\n",
    "\n",
    "if percentage > 90:\n",
    "    print(\"Grade: A\")\n",
    "    \n",
    "if percentage > 80 and percentage <= 90:\n",
    "    print(\"Grade: B\")\n",
    "    \n",
    "if percentage >= 60 and percentage <=80:\n",
    "    print(\"Grade: C\")\n",
    "    \n",
    "if percentage < 60:\n",
    "    print(\"Grade:D\")"
   ]
  },
  {
   "cell_type": "code",
   "execution_count": null,
   "id": "ef0a5308-02c1-48b0-b51a-1e9c856d0e2c",
   "metadata": {},
   "outputs": [],
   "source": [
    "Q3. Accept the age of 4 people and display the youngest one?"
   ]
  },
  {
   "cell_type": "code",
   "execution_count": 3,
   "id": "2cc858ce-16d6-4048-84b2-4f8db58c1a7d",
   "metadata": {},
   "outputs": [
    {
     "name": "stdin",
     "output_type": "stream",
     "text": [
      "Enter age of person 1:  12\n",
      "Enter age of person 2:  45\n",
      "Enter age of person 3:  62\n",
      "Enter age of person 4:  98\n"
     ]
    },
    {
     "name": "stdout",
     "output_type": "stream",
     "text": [
      "The youngest age is:  12\n"
     ]
    }
   ],
   "source": [
    "age1 = int(input(\"Enter age of person 1: \"))\n",
    "age2 = int(input(\"Enter age of person 2: \"))\n",
    "age3 = int(input(\"Enter age of person 3: \"))\n",
    "age4 = int(input(\"Enter age of person 4: \"))\n",
    "\n",
    "youngest = age1\n",
    "\n",
    "if age2 < youngest:\n",
    "    youngest = age2\n",
    "\n",
    "if age3 < youngest:\n",
    "    youngest = age3\n",
    "\n",
    "if age4 < youngest:\n",
    "    youngest = age4\n",
    "\n",
    "print(\"The youngest age is: \",youngest)    "
   ]
  },
  {
   "cell_type": "code",
   "execution_count": null,
   "id": "7b4e8b92-187d-4087-a014-c4ba816f74cb",
   "metadata": {},
   "outputs": [],
   "source": [
    "Q4. A company decided to give bonus to employee\n",
    "according to following criteria:\n",
    "\n",
    "Time period of Service Bonus\n",
    "\n",
    "More than 10 years 10%\n",
    "\n",
    ">=6 and <=10 8%\n",
    "\n",
    "Less than 6 years 5%\n",
    "\n",
    "Ask user for their salary and years of service and print the\n",
    "net bonus amount?"
   ]
  },
  {
   "cell_type": "code",
   "execution_count": 5,
   "id": "630ff894-d3cc-46b1-9ca8-09a875f85eac",
   "metadata": {},
   "outputs": [
    {
     "name": "stdin",
     "output_type": "stream",
     "text": [
      "Enter your salary: 15000\n",
      "Enter your years of service: 5\n"
     ]
    },
    {
     "name": "stdout",
     "output_type": "stream",
     "text": [
      "Your bonus amount is: Rs 750.0\n"
     ]
    }
   ],
   "source": [
    "salary = float(input(\"Enter your salary:\"))\n",
    "years = float(input(\"Enter your years of service:\"))\n",
    "\n",
    "bonus = 0\n",
    "\n",
    "if years > 10:\n",
    "    bonus = salary * 0.10\n",
    "\n",
    "if years >= 6 and years <= 10:\n",
    "    bonus = salary * 0.08\n",
    "\n",
    "if years < 6:\n",
    "    bonus = salary * 0.05\n",
    "\n",
    "print(\"Your bonus amount is: Rs\",bonus)"
   ]
  },
  {
   "cell_type": "code",
   "execution_count": null,
   "id": "eda3442b-73d5-4fc1-85af-4b51f68d23bf",
   "metadata": {},
   "outputs": [],
   "source": [
    "Q5. Accept three numbers from the user and display the second largest number?"
   ]
  },
  {
   "cell_type": "code",
   "execution_count": 6,
   "id": "d4e22411-6ee6-41af-b537-c83fac2f7ba6",
   "metadata": {},
   "outputs": [
    {
     "name": "stdin",
     "output_type": "stream",
     "text": [
      "Enter first number:  10\n",
      "Enter second number:  12\n",
      "Enter third number:  15\n"
     ]
    },
    {
     "name": "stdout",
     "output_type": "stream",
     "text": [
      "The second largest number is: 12\n"
     ]
    }
   ],
   "source": [
    "a = int(input(\"Enter first number: \"))\n",
    "b = int(input(\"Enter second number: \"))\n",
    "c = int(input(\"Enter third number: \"))\n",
    "\n",
    "if(a > b and a < c) or (a > c and a < b):\n",
    "    second_largest = a \n",
    "\n",
    "if (b > a and b < c) or (b > c and b < a):\n",
    "    second_largest = b\n",
    "\n",
    "if (c > a and c < b) or (c > b and c < a):  \n",
    "    second_largest = c\n",
    "\n",
    "if a == b or b == c or a == c:\n",
    "    if a == b and b == c:\n",
    "        print(\"All numbers are equal.\")\n",
    "    else: \n",
    "        print(\"Cannot determine second largest uniquely due to equal values.\")\n",
    "else:\n",
    "    print(\"The second largest number is:\",second_largest)"
   ]
  },
  {
   "cell_type": "code",
   "execution_count": null,
   "id": "c03e0347-0553-4c8a-8a74-a5be230c79f8",
   "metadata": {},
   "outputs": [],
   "source": [
    "Q6. Accept the marked price from the user and calculate the Net amount as (Marked Price – Discount) to pay according to following criteria:\n",
    "\n",
    "Marked Price Discount\n",
    "\n",
    "10000 20% 7000 and <=10000 15% <=7000 10%"
   ]
  },
  {
   "cell_type": "code",
   "execution_count": 7,
   "id": "2e52904c-ca01-42ff-babd-5f5f1b054be9",
   "metadata": {},
   "outputs": [
    {
     "name": "stdin",
     "output_type": "stream",
     "text": [
      "Enter the marked price: 10000\n"
     ]
    },
    {
     "name": "stdout",
     "output_type": "stream",
     "text": [
      "Discount: Rs 1500.0\n",
      "Net Amount to pay: Rs 8500.0\n"
     ]
    }
   ],
   "source": [
    "marked_price = float(input(\"Enter the marked price:\"))\n",
    "\n",
    "discount = 0\n",
    "\n",
    "if marked_price > 10000:\n",
    "    discount = marked_price * 0.20\n",
    "\n",
    "if marked_price > 7000 and marked_price <= 10000:\n",
    "    discount = marked_price * 0.15\n",
    "\n",
    "if marked_price <= 7000:\n",
    "    discount = marked_price * 0.10\n",
    "\n",
    "net_amount = marked_price - discount\n",
    "\n",
    "print(\"Discount: Rs\", discount)\n",
    "print(\"Net Amount to pay: Rs\",net_amount)"
   ]
  },
  {
   "cell_type": "code",
   "execution_count": null,
   "id": "35815a53-bf6d-4898-bed3-92ec67ea4e1c",
   "metadata": {},
   "outputs": [],
   "source": [
    "Q7. Accept the marks of English, Math and Science, Social Studies Subject and display the stream allotted according to following:\n",
    "\n",
    "All Subjects more than 80 marks — Science Stream\n",
    "\n",
    "English >80 and Math, Science above 50 — Commerce Stream\n",
    "\n",
    "English > 80 and social studies > 80 — Humanities"
   ]
  },
  {
   "cell_type": "code",
   "execution_count": 8,
   "id": "889185c7-09b5-4969-8234-56e1812fb56e",
   "metadata": {},
   "outputs": [
    {
     "name": "stdin",
     "output_type": "stream",
     "text": [
      "Enter marks in English:  80\n",
      "Enter marks in Math:  50\n",
      "Enter marks in Science:  50\n",
      "Enter marks in Social Studies:  80\n"
     ]
    },
    {
     "name": "stdout",
     "output_type": "stream",
     "text": [
      "No specific stream allotted\n"
     ]
    }
   ],
   "source": [
    "english = int(input(\"Enter marks in English: \"))\n",
    "math = int(input(\"Enter marks in Math: \"))\n",
    "science = int(input(\"Enter marks in Science: \"))\n",
    "social_studies = int(input(\"Enter marks in Social Studies: \"))\n",
    "\n",
    "if english > 80 and math > 80 and science > 80 and social_studies > 80:\n",
    "    print(\"Stream Allotted: Science Stream\")\n",
    "    \n",
    "elif english > 80 and math > 50 and science > 50:\n",
    "    print(\"Stream Allotted: Commerce Stream\")\n",
    "    \n",
    "elif english > 80 and social_studies > 80:\n",
    "    print(\"Stream Allotted: Humanities\")\n",
    "    \n",
    "else:\n",
    "    print(\"No specific stream allotted\")"
   ]
  },
  {
   "cell_type": "code",
   "execution_count": null,
   "id": "728f336d-f115-4aca-a60f-03bbc4f04063",
   "metadata": {},
   "outputs": [],
   "source": [
    "Q8. Write a program to display \"Hello\" if a number entered by user is a multiple of five, otherwise print \"Bye\"?"
   ]
  },
  {
   "cell_type": "code",
   "execution_count": 9,
   "id": "b7adfee5-fe40-4916-9dca-4d3c7b34d86b",
   "metadata": {},
   "outputs": [
    {
     "name": "stdin",
     "output_type": "stream",
     "text": [
      "Enter a number: 5\n"
     ]
    },
    {
     "name": "stdout",
     "output_type": "stream",
     "text": [
      "Hello\n"
     ]
    }
   ],
   "source": [
    "num = int(input(\"Enter a number:\"))\n",
    "\n",
    "if num % 5 == 0:\n",
    "    print(\"Hello\")\n",
    "else:\n",
    "    print(\"Bye\")"
   ]
  },
  {
   "cell_type": "code",
   "execution_count": null,
   "id": "bcb9aac3-df49-477e-9847-50b989ba78cb",
   "metadata": {},
   "outputs": [],
   "source": [
    "Q9. Write a program to check whether the last digit of a number (entered by user) is divisible by 3 or not?"
   ]
  },
  {
   "cell_type": "code",
   "execution_count": 10,
   "id": "04fc71e3-1f73-4460-8c10-5b37a1d505aa",
   "metadata": {},
   "outputs": [
    {
     "name": "stdin",
     "output_type": "stream",
     "text": [
      "Enter a number:  10\n"
     ]
    },
    {
     "name": "stdout",
     "output_type": "stream",
     "text": [
      "The last digit is divisible by 3.\n"
     ]
    }
   ],
   "source": [
    "num = int(input(\"Enter a number: \"))\n",
    "\n",
    "last_digit = num % 10\n",
    "\n",
    "if last_digit % 3 == 0:\n",
    "    print(\"The last digit is divisible by 3.\")\n",
    "\n",
    "else:\n",
    "    print(\"The last digit is not divisible by 3.\")"
   ]
  },
  {
   "cell_type": "code",
   "execution_count": null,
   "id": "ba610766-47d3-4035-9b83-2156d22ca443",
   "metadata": {},
   "outputs": [],
   "source": [
    "Q10. Write a program to check whether a number entered is three-digit number or not?"
   ]
  },
  {
   "cell_type": "code",
   "execution_count": 11,
   "id": "80e6879f-260e-41f3-974d-82872bc8625c",
   "metadata": {},
   "outputs": [
    {
     "name": "stdin",
     "output_type": "stream",
     "text": [
      "Enter a number:  100\n"
     ]
    },
    {
     "name": "stdout",
     "output_type": "stream",
     "text": [
      "It is a three-digit number.\n"
     ]
    }
   ],
   "source": [
    "num = int(input(\"Enter a number: \"))\n",
    "\n",
    "if num >= 100 and num <= 999:\n",
    "    print(\"It is a three-digit number.\")\n",
    "\n",
    "elif num <= -100 and num >= -999:\n",
    "    print(\"It is a three-digit number.\")\n",
    "\n",
    "else:\n",
    "    print(\"It is not a three-digit number.\")\n",
    "    "
   ]
  },
  {
   "cell_type": "code",
   "execution_count": null,
   "id": "14cb6deb-403c-48a6-b061-29fbc0fb1d31",
   "metadata": {},
   "outputs": [],
   "source": []
  }
 ],
 "metadata": {
  "kernelspec": {
   "display_name": "Python 3 (ipykernel)",
   "language": "python",
   "name": "python3"
  },
  "language_info": {
   "codemirror_mode": {
    "name": "ipython",
    "version": 3
   },
   "file_extension": ".py",
   "mimetype": "text/x-python",
   "name": "python",
   "nbconvert_exporter": "python",
   "pygments_lexer": "ipython3",
   "version": "3.12.7"
  }
 },
 "nbformat": 4,
 "nbformat_minor": 5
}
