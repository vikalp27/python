{
 "cells": [
  {
   "cell_type": "code",
   "execution_count": null,
   "id": "51fb00fc-ed1f-41a3-aa3f-4bd1ad48a660",
   "metadata": {},
   "outputs": [],
   "source": [
    "1: Write a Python program to print all the numbers from 1 to 10 using a for loop."
   ]
  },
  {
   "cell_type": "code",
   "execution_count": 2,
   "id": "94569acc-3de9-456a-bc02-b15515225263",
   "metadata": {},
   "outputs": [
    {
     "name": "stdout",
     "output_type": "stream",
     "text": [
      "1\n",
      "2\n",
      "3\n",
      "4\n",
      "5\n",
      "6\n",
      "7\n",
      "8\n",
      "9\n",
      "10\n"
     ]
    }
   ],
   "source": [
    "for i in range(1 , 11):\n",
    "  print(i)"
   ]
  },
  {
   "cell_type": "code",
   "execution_count": null,
   "id": "49ce5e93-e0ed-477c-ad69-83ca302e5426",
   "metadata": {},
   "outputs": [],
   "source": [
    "2.Write a Python program to find the sum of all numbers from 1 to 100 using a for loop."
   ]
  },
  {
   "cell_type": "code",
   "execution_count": 3,
   "id": "e8990a39-e1fb-4d90-b0ea-69dd078b8607",
   "metadata": {},
   "outputs": [
    {
     "name": "stdout",
     "output_type": "stream",
     "text": [
      "The sum of numbers from 1 to 100 is: 5050\n"
     ]
    }
   ],
   "source": [
    "total = 0\n",
    "\n",
    "for number in range(1, 101):\n",
    "    total += number  \n",
    "print(\"The sum of numbers from 1 to 100 is:\", total)"
   ]
  },
  {
   "cell_type": "code",
   "execution_count": null,
   "id": "b3237594-4391-4850-9b13-b6a182614d52",
   "metadata": {},
   "outputs": [],
   "source": [
    "Write a Python program to print the multiplication table of a given number using a for loop."
   ]
  },
  {
   "cell_type": "code",
   "execution_count": 4,
   "id": "055d0093-f115-4ef0-a4a0-e0201fd9ebaf",
   "metadata": {},
   "outputs": [
    {
     "name": "stdin",
     "output_type": "stream",
     "text": [
      "Enter your number to table 5\n"
     ]
    },
    {
     "name": "stdout",
     "output_type": "stream",
     "text": [
      "5 x 1 = 5\n",
      "5 x 2 = 10\n",
      "5 x 3 = 15\n",
      "5 x 4 = 20\n",
      "5 x 5 = 25\n",
      "5 x 6 = 30\n",
      "5 x 7 = 35\n",
      "5 x 8 = 40\n",
      "5 x 9 = 45\n",
      "5 x 10 = 50\n"
     ]
    }
   ],
   "source": [
    "num = int(input(\"Enter your number to table\"))\n",
    "for i in range(1,11):\n",
    "    print(f\"{num} x {i} = {num *i}\")"
   ]
  },
  {
   "cell_type": "code",
   "execution_count": null,
   "id": "6a5e2f21-b3f0-40f2-90fd-0bdbd098ba6e",
   "metadata": {},
   "outputs": [],
   "source": [
    "4. Write a Python program to count the number of even and odd numbers from a\n",
    "series of numbers using a for loop.\n",
    "Hint: Find even and odd from this list: [1, 2, 3, 4, 5, 6, 7, 8, 9, 10]"
   ]
  },
  {
   "cell_type": "code",
   "execution_count": 5,
   "id": "c53cf44a-7f7a-4a3d-bfee-fb197e6edb59",
   "metadata": {},
   "outputs": [
    {
     "name": "stdout",
     "output_type": "stream",
     "text": [
      "Number of even numbers: 5\n",
      "Number of odd numbers: 5\n"
     ]
    }
   ],
   "source": [
    "list = [1, 2, 3, 4, 5, 6, 7, 8, 9, 10]\n",
    "\n",
    "even_count = 0\n",
    "odd_count = 0\n",
    "\n",
    "for num in list:\n",
    "    if num % 2 == 0:\n",
    "        even_count += 1\n",
    "    else:\n",
    "        odd_count += 1\n",
    "\n",
    "print(\"Number of even numbers:\", even_count)\n",
    "print(\"Number of odd numbers:\", odd_count)"
   ]
  },
  {
   "cell_type": "code",
   "execution_count": null,
   "id": "1846acce-ee2f-4cf2-8019-58e0163445ee",
   "metadata": {},
   "outputs": [],
   "source": [
    "5: Write a Python program to find the factorial of a number using a for loop."
   ]
  },
  {
   "cell_type": "code",
   "execution_count": null,
   "id": "ed7ba9c1-447c-4cc8-b21e-420f3269d477",
   "metadata": {},
   "outputs": [],
   "source": [
    "num = int(input(\"Enter a number to find its factorial: \"))\n",
    "\n",
    "factorial = 1\n",
    "\n",
    "if num < 0:\n",
    "    print(\"Factorial is not defined for negative numbers.\")\n",
    "else:\n",
    "    for i in range(1, num + 1):\n",
    "        factorial *= i\n",
    "    print(f\"The factorial of {num} is {factorial}\")"
   ]
  },
  {
   "cell_type": "code",
   "execution_count": null,
   "id": "8fb923f5-d689-4d22-8993-992d8738a453",
   "metadata": {},
   "outputs": [],
   "source": [
    "Write a Python program to print the Fibonacci sequence up to a specified number using a for loop."
   ]
  },
  {
   "cell_type": "code",
   "execution_count": 6,
   "id": "0a5ac7f0-606f-4600-887f-d7a18fcadd1e",
   "metadata": {},
   "outputs": [
    {
     "name": "stdin",
     "output_type": "stream",
     "text": [
      "Enter the limit for Fibonacci sequence:  4\n"
     ]
    },
    {
     "name": "stdout",
     "output_type": "stream",
     "text": [
      "Fibonacci sequence up to 4 :\n",
      "0 1 1 2 "
     ]
    }
   ],
   "source": [
    "limit = int(input(\"Enter the limit for Fibonacci sequence: \"))\n",
    "a, b = 0, 1\n",
    "\n",
    "print(\"Fibonacci sequence up to\", limit, \":\")\n",
    "\n",
    "for _ in range(limit):\n",
    "    if a > limit:\n",
    "        break\n",
    "    print(a, end=\" \")\n",
    "    a, b = b, a + b"
   ]
  },
  {
   "cell_type": "code",
   "execution_count": null,
   "id": "7fbc4031-3ea3-401e-b33c-c73802517002",
   "metadata": {},
   "outputs": [],
   "source": [
    "7.Write a Python program to check if a given number is prime or not using a for loop."
   ]
  },
  {
   "cell_type": "code",
   "execution_count": 7,
   "id": "4397fb4e-8083-44d0-a758-a7d6f084e7fb",
   "metadata": {},
   "outputs": [
    {
     "name": "stdin",
     "output_type": "stream",
     "text": [
      "Enter a number to check if it is prime:  22\n"
     ]
    },
    {
     "name": "stdout",
     "output_type": "stream",
     "text": [
      "22 is not a prime number.\n"
     ]
    }
   ],
   "source": [
    "num = int(input(\"Enter a number to check if it is prime: \"))\n",
    "\n",
    "if num <= 1:\n",
    "    print(num, \"is not a prime number.\")\n",
    "else:\n",
    "    is_prime = True\n",
    "    for i in range(2, int(num ** 0.5) + 1):  # Check up to square root of num\n",
    "        if num % i == 0:\n",
    "            is_prime = False\n",
    "            break\n",
    "    if is_prime:\n",
    "        print(num, \"is a prime number.\")\n",
    "    else:\n",
    "        print(num, \"is not a prime number.\")"
   ]
  },
  {
   "cell_type": "code",
   "execution_count": null,
   "id": "b3b259b9-6d52-4e4c-ae84-2de107d397a9",
   "metadata": {},
   "outputs": [],
   "source": [
    "8.Write a Python program to find the largest element in a list using a for loop."
   ]
  },
  {
   "cell_type": "code",
   "execution_count": 8,
   "id": "6ce40b5c-a0b0-412d-845f-2c10a92a6aab",
   "metadata": {},
   "outputs": [
    {
     "name": "stdout",
     "output_type": "stream",
     "text": [
      "The largest element in the list is: 89\n"
     ]
    }
   ],
   "source": [
    "numbers = [12, 45, 78, 23, 89, 55, 33]\n",
    "largest = numbers[0]\n",
    "\n",
    "for num in numbers:\n",
    "    if num > largest:\n",
    "        largest = num\n",
    "\n",
    "print(\"The largest element in the list is:\", largest)"
   ]
  },
  {
   "cell_type": "code",
   "execution_count": null,
   "id": "1dc86e72-9c6d-41ad-b006-a53b93ef84b8",
   "metadata": {},
   "outputs": [],
   "source": [
    "9.Write a Python program to reverse a given string using a for loop."
   ]
  },
  {
   "cell_type": "code",
   "execution_count": 9,
   "id": "e7f767e0-a5e0-4296-9dff-11979cf16d23",
   "metadata": {},
   "outputs": [
    {
     "name": "stdout",
     "output_type": "stream",
     "text": [
      "Reversed string: !dlroW ,olleH\n"
     ]
    }
   ],
   "source": [
    "input_string = \"Hello, World!\"\n",
    "\n",
    "reversed_string = \"\"\n",
    "\n",
    "for i in range(len(input_string) - 1, -1, -1):\n",
    "    reversed_string += input_string[i]\n",
    "\n",
    "print(\"Reversed string:\", reversed_string)"
   ]
  },
  {
   "cell_type": "code",
   "execution_count": null,
   "id": "414ff5da-9700-4857-8716-933ab7536424",
   "metadata": {},
   "outputs": [],
   "source": [
    "Write a Python program to find the common elements between two lists using a for loop."
   ]
  },
  {
   "cell_type": "code",
   "execution_count": 10,
   "id": "8bedded8-7e0e-4614-889b-812d157e7ebe",
   "metadata": {},
   "outputs": [
    {
     "name": "stdout",
     "output_type": "stream",
     "text": [
      "Common elements: [1]\n"
     ]
    }
   ],
   "source": [
    "List1 = [1, 2, 3]\n",
    "List2 = [4, 5, 1]\n",
    "\n",
    "common_elements = []\n",
    "\n",
    "for item in List1:\n",
    "    if item in List2:\n",
    "        common_elements.append(item)\n",
    "    \n",
    "print(\"Common elements:\", common_elements)"
   ]
  },
  {
   "cell_type": "code",
   "execution_count": null,
   "id": "bd9d9da6-cb12-400e-8504-272b15b2a06f",
   "metadata": {},
   "outputs": [],
   "source": []
  }
 ],
 "metadata": {
  "kernelspec": {
   "display_name": "Python 3 (ipykernel)",
   "language": "python",
   "name": "python3"
  },
  "language_info": {
   "codemirror_mode": {
    "name": "ipython",
    "version": 3
   },
   "file_extension": ".py",
   "mimetype": "text/x-python",
   "name": "python",
   "nbconvert_exporter": "python",
   "pygments_lexer": "ipython3",
   "version": "3.12.7"
  }
 },
 "nbformat": 4,
 "nbformat_minor": 5
}
