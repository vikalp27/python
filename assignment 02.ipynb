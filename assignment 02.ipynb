{
 "cells": [
  {
   "cell_type": "code",
   "execution_count": null,
   "id": "2ab26d21-50a7-4271-962a-186fd8cb76d4",
   "metadata": {},
   "outputs": [],
   "source": [
    "1.Capitalizes the first character."
   ]
  },
  {
   "cell_type": "code",
   "execution_count": 1,
   "id": "c5d738e3-5f07-4f62-9e2a-13c56237496b",
   "metadata": {},
   "outputs": [
    {
     "data": {
      "text/plain": [
       "'Vikalp'"
      ]
     },
     "execution_count": 1,
     "metadata": {},
     "output_type": "execute_result"
    }
   ],
   "source": [
    "n = \"vikalp\"\n",
    "n.capitalize()"
   ]
  },
  {
   "cell_type": "code",
   "execution_count": null,
   "id": "d8f2a5cf-958d-4d7a-a964-570fe60f63f2",
   "metadata": {},
   "outputs": [],
   "source": [
    "2.Converts to lowercase (more aggressive than lower())."
   ]
  },
  {
   "cell_type": "code",
   "execution_count": 2,
   "id": "71cbbd24-bed8-4e10-88df-a5192a20950a",
   "metadata": {},
   "outputs": [
    {
     "data": {
      "text/plain": [
       "'vikalp'"
      ]
     },
     "execution_count": 2,
     "metadata": {},
     "output_type": "execute_result"
    }
   ],
   "source": [
    "n = \"vikalp\"\n",
    "n.casefold()"
   ]
  },
  {
   "cell_type": "code",
   "execution_count": null,
   "id": "593bf223-6405-4595-8cf3-e73f3f5effc0",
   "metadata": {},
   "outputs": [],
   "source": [
    "3.Centers the string within the specified width."
   ]
  },
  {
   "cell_type": "code",
   "execution_count": 3,
   "id": "e546c372-5a3c-4019-8bda-ae462e9b3155",
   "metadata": {},
   "outputs": [
    {
     "data": {
      "text/plain": [
       "'***hello***'"
      ]
     },
     "execution_count": 3,
     "metadata": {},
     "output_type": "execute_result"
    }
   ],
   "source": [
    "\"hello\".center(11, '*') "
   ]
  },
  {
   "cell_type": "code",
   "execution_count": 4,
   "id": "7e625824-5ae4-483b-93d5-bd78b46cd393",
   "metadata": {},
   "outputs": [
    {
     "data": {
      "text/plain": [
       "'--hi--'"
      ]
     },
     "execution_count": 4,
     "metadata": {},
     "output_type": "execute_result"
    }
   ],
   "source": [
    "\"hi\".center(6, '-') "
   ]
  },
  {
   "cell_type": "code",
   "execution_count": null,
   "id": "e4b0a363-f184-4f91-8c21-ac0194ec7d13",
   "metadata": {},
   "outputs": [],
   "source": [
    "4.Returns the number of non-overlapping occurrences of a substring."
   ]
  },
  {
   "cell_type": "code",
   "execution_count": 5,
   "id": "dc1482d8-64eb-48ce-a853-6c7710eec548",
   "metadata": {},
   "outputs": [
    {
     "data": {
      "text/plain": [
       "1"
      ]
     },
     "execution_count": 5,
     "metadata": {},
     "output_type": "execute_result"
    }
   ],
   "source": [
    "\"banana\".count(\"a\", 2, 5) "
   ]
  },
  {
   "cell_type": "code",
   "execution_count": null,
   "id": "8a496aa2-a737-47cd-98b5-d11f25c53023",
   "metadata": {},
   "outputs": [],
   "source": [
    "5.Returns encoded version of the string."
   ]
  },
  {
   "cell_type": "code",
   "execution_count": 6,
   "id": "402d595e-9bd5-4743-884e-68dfeed6a5c0",
   "metadata": {},
   "outputs": [
    {
     "data": {
      "text/plain": [
       "b'caf\\xc3\\xa9'"
      ]
     },
     "execution_count": 6,
     "metadata": {},
     "output_type": "execute_result"
    }
   ],
   "source": [
    "\"café\".encode(\"utf-8\")"
   ]
  },
  {
   "cell_type": "code",
   "execution_count": 7,
   "id": "464df7ca-38d1-4d9b-8593-e4cbb96c2a18",
   "metadata": {},
   "outputs": [
    {
     "data": {
      "text/plain": [
       "b'caf'"
      ]
     },
     "execution_count": 7,
     "metadata": {},
     "output_type": "execute_result"
    }
   ],
   "source": [
    "\"café\".encode(\"ascii\", \"ignore\") "
   ]
  },
  {
   "cell_type": "code",
   "execution_count": null,
   "id": "8628dcc8-4581-4887-b9e2-3c9931b5abe7",
   "metadata": {},
   "outputs": [],
   "source": [
    "6.Returns True if the string ends with the specified suffix."
   ]
  },
  {
   "cell_type": "code",
   "execution_count": 8,
   "id": "7a6db1ef-fa4b-4e2f-9d9b-8b5f0b685fe1",
   "metadata": {},
   "outputs": [
    {
     "data": {
      "text/plain": [
       "True"
      ]
     },
     "execution_count": 8,
     "metadata": {},
     "output_type": "execute_result"
    }
   ],
   "source": [
    "\"HelloWorld\".endswith(\"World\", 0, 10) "
   ]
  },
  {
   "cell_type": "code",
   "execution_count": null,
   "id": "f951a96a-cde4-4853-874b-3c0d3cfb8090",
   "metadata": {},
   "outputs": [],
   "source": [
    "7.Replaces tabs with spaces."
   ]
  },
  {
   "cell_type": "code",
   "execution_count": 9,
   "id": "aa0fcc10-310d-4535-8a82-c8a4a5c33f92",
   "metadata": {},
   "outputs": [
    {
     "data": {
      "text/plain": [
       "'Python  Rocks'"
      ]
     },
     "execution_count": 9,
     "metadata": {},
     "output_type": "execute_result"
    }
   ],
   "source": [
    "\"Python\\tRocks\".expandtabs() "
   ]
  },
  {
   "cell_type": "code",
   "execution_count": 10,
   "id": "231fe254-c161-415c-a788-3d24afc33fd7",
   "metadata": {},
   "outputs": [
    {
     "data": {
      "text/plain": [
       "'Python  Rocks'"
      ]
     },
     "execution_count": 10,
     "metadata": {},
     "output_type": "execute_result"
    }
   ],
   "source": [
    "\"Python\\tRocks\".expandtabs(4)"
   ]
  },
  {
   "cell_type": "code",
   "execution_count": null,
   "id": "ce16abb0-4281-400a-8e01-3b132375e737",
   "metadata": {},
   "outputs": [],
   "source": [
    "8.Returns the lowest index of the substring; returns -1 if not found."
   ]
  },
  {
   "cell_type": "code",
   "execution_count": 11,
   "id": "c510c325-4d5d-4c4d-a747-708f106d8191",
   "metadata": {},
   "outputs": [
    {
     "data": {
      "text/plain": [
       "3"
      ]
     },
     "execution_count": 11,
     "metadata": {},
     "output_type": "execute_result"
    }
   ],
   "source": [
    "\"textbook\".find(\"t\", 2) "
   ]
  },
  {
   "cell_type": "code",
   "execution_count": 12,
   "id": "08780854-d855-4b12-96c7-6758cf41a6e8",
   "metadata": {},
   "outputs": [
    {
     "name": "stdout",
     "output_type": "stream",
     "text": [
      "-1\n"
     ]
    }
   ],
   "source": [
    "s = \"Python is powerful and fast.\"\n",
    "print(s.find(\"fast\", 0, 25))"
   ]
  },
  {
   "cell_type": "code",
   "execution_count": null,
   "id": "c61a9e8a-7bbe-4da0-b2bf-5771ad28d577",
   "metadata": {},
   "outputs": [],
   "source": []
  },
  {
   "cell_type": "code",
   "execution_count": null,
   "id": "10506b5c-0eab-412a-830b-65203af7fe60",
   "metadata": {},
   "outputs": [],
   "source": [
    "9.Formats string using the specified arguments."
   ]
  },
  {
   "cell_type": "code",
   "execution_count": 13,
   "id": "d2ce95fa-2a28-47d4-8814-a7a7124f6fe0",
   "metadata": {},
   "outputs": [
    {
     "data": {
      "text/plain": [
       "'John scored 95% in Math'"
      ]
     },
     "execution_count": 13,
     "metadata": {},
     "output_type": "execute_result"
    }
   ],
   "source": [
    "\"{} scored {}% in {}\".format(\"John\", 95, \"Math\") "
   ]
  },
  {
   "cell_type": "code",
   "execution_count": 14,
   "id": "3756e497-0eac-4696-9f34-16391aa360d6",
   "metadata": {},
   "outputs": [
    {
     "data": {
      "text/plain": [
       "'Hello, Alice!'"
      ]
     },
     "execution_count": 14,
     "metadata": {},
     "output_type": "execute_result"
    }
   ],
   "source": [
    "\"Hello, {}!\".format(\"Alice\") "
   ]
  },
  {
   "cell_type": "code",
   "execution_count": null,
   "id": "b74eb4a0-ee38-434c-98ad-0223a2aa7594",
   "metadata": {},
   "outputs": [],
   "source": [
    "10.Formats string using a mapping."
   ]
  },
  {
   "cell_type": "code",
   "execution_count": 15,
   "id": "499db66d-f9f2-4357-9065-9972bf2bdac5",
   "metadata": {},
   "outputs": [
    {
     "data": {
      "text/plain": [
       "'Name: Alice, Age: 30'"
      ]
     },
     "execution_count": 15,
     "metadata": {},
     "output_type": "execute_result"
    }
   ],
   "source": [
    "data = {\"name\": \"Alice\", \"age\": 30}\n",
    "\"Name: {name}, Age: {age}\".format_map(data)\n"
   ]
  },
  {
   "cell_type": "code",
   "execution_count": null,
   "id": "f5678961-baa6-4144-b749-03dbfa04bb47",
   "metadata": {},
   "outputs": [],
   "source": [
    "11.Like find() but raises ValueError if not found."
   ]
  },
  {
   "cell_type": "code",
   "execution_count": 16,
   "id": "194255d3-9a23-48d2-a208-e2fe75e74c61",
   "metadata": {},
   "outputs": [
    {
     "data": {
      "text/plain": [
       "6"
      ]
     },
     "execution_count": 16,
     "metadata": {},
     "output_type": "execute_result"
    }
   ],
   "source": [
    "\"hello world\".index(\"world\") "
   ]
  },
  {
   "cell_type": "code",
   "execution_count": 17,
   "id": "73d4a14b-fc08-4eb7-94dc-d9c67bbcb477",
   "metadata": {},
   "outputs": [
    {
     "data": {
      "text/plain": [
       "2"
      ]
     },
     "execution_count": 17,
     "metadata": {},
     "output_type": "execute_result"
    }
   ],
   "source": [
    "\"banana\".index(\"na\") "
   ]
  },
  {
   "cell_type": "code",
   "execution_count": null,
   "id": "5648dfca-3b05-499a-bcdf-f9f9c2256ec2",
   "metadata": {},
   "outputs": [],
   "source": [
    "12.Returns True if all characters are alphanumeric."
   ]
  },
  {
   "cell_type": "code",
   "execution_count": 18,
   "id": "b5f9dabd-69b6-4510-b9a2-be60d3933d1f",
   "metadata": {},
   "outputs": [
    {
     "data": {
      "text/plain": [
       "False"
      ]
     },
     "execution_count": 18,
     "metadata": {},
     "output_type": "execute_result"
    }
   ],
   "source": [
    "\"hello world\".isalnum()"
   ]
  },
  {
   "cell_type": "code",
   "execution_count": 19,
   "id": "820fd887-72da-46f1-b812-ea9b4abb5b79",
   "metadata": {},
   "outputs": [
    {
     "data": {
      "text/plain": [
       "True"
      ]
     },
     "execution_count": 19,
     "metadata": {},
     "output_type": "execute_result"
    }
   ],
   "source": [
    "\"123456\".isalnum() "
   ]
  },
  {
   "cell_type": "code",
   "execution_count": null,
   "id": "2e895a81-bc20-4baa-b31d-44bbaabe4fbd",
   "metadata": {},
   "outputs": [],
   "source": [
    "13.Returns True if all characters are alphabetic."
   ]
  },
  {
   "cell_type": "code",
   "execution_count": 20,
   "id": "459165d8-c830-46e0-8859-d90bd8aa20cf",
   "metadata": {},
   "outputs": [
    {
     "data": {
      "text/plain": [
       "True"
      ]
     },
     "execution_count": 20,
     "metadata": {},
     "output_type": "execute_result"
    }
   ],
   "source": [
    "\"abc\".isalpha()"
   ]
  },
  {
   "cell_type": "code",
   "execution_count": 21,
   "id": "2697d4bf-d97c-487b-a65c-c49bf564cea0",
   "metadata": {},
   "outputs": [
    {
     "data": {
      "text/plain": [
       "False"
      ]
     },
     "execution_count": 21,
     "metadata": {},
     "output_type": "execute_result"
    }
   ],
   "source": [
    "\"Data123\".isalpha()"
   ]
  },
  {
   "cell_type": "code",
   "execution_count": null,
   "id": "bd19979f-6ac1-416f-9246-55d6e364a21c",
   "metadata": {},
   "outputs": [],
   "source": [
    "14.Returns True if all characters are ASCII."
   ]
  },
  {
   "cell_type": "code",
   "execution_count": 22,
   "id": "3506c51e-396e-4a29-bf89-812e2e9ca2b9",
   "metadata": {},
   "outputs": [
    {
     "data": {
      "text/plain": [
       "True"
      ]
     },
     "execution_count": 22,
     "metadata": {},
     "output_type": "execute_result"
    }
   ],
   "source": [
    "\"Hello123\".isascii() "
   ]
  },
  {
   "cell_type": "code",
   "execution_count": 24,
   "id": "f50aa475-f181-4bbb-b7a3-857caabf96ee",
   "metadata": {},
   "outputs": [
    {
     "data": {
      "text/plain": [
       "False"
      ]
     },
     "execution_count": 24,
     "metadata": {},
     "output_type": "execute_result"
    }
   ],
   "source": [
    "\"¡Hola!\".isascii() "
   ]
  },
  {
   "cell_type": "code",
   "execution_count": null,
   "id": "94a4373c-8265-4947-b531-94329e25657b",
   "metadata": {},
   "outputs": [],
   "source": [
    "15.Returns True if all characters are decimal characters."
   ]
  },
  {
   "cell_type": "code",
   "execution_count": 25,
   "id": "a20c6fb0-e577-4dcf-b426-5920f6f9c914",
   "metadata": {},
   "outputs": [
    {
     "data": {
      "text/plain": [
       "False"
      ]
     },
     "execution_count": 25,
     "metadata": {},
     "output_type": "execute_result"
    }
   ],
   "source": [
    "\"12.3\".isdecimal()"
   ]
  },
  {
   "cell_type": "code",
   "execution_count": 26,
   "id": "d8d3f752-3286-47a6-8c6d-eb9701108568",
   "metadata": {},
   "outputs": [
    {
     "data": {
      "text/plain": [
       "True"
      ]
     },
     "execution_count": 26,
     "metadata": {},
     "output_type": "execute_result"
    }
   ],
   "source": [
    "\"12345\".isdecimal()     "
   ]
  },
  {
   "cell_type": "code",
   "execution_count": null,
   "id": "c8c81118-7322-4dd5-8855-db00e1c5c695",
   "metadata": {},
   "outputs": [],
   "source": [
    "16.Returns True if all characters are digits."
   ]
  },
  {
   "cell_type": "code",
   "execution_count": 27,
   "id": "ab8a4b37-f126-4320-a733-4cc29c107629",
   "metadata": {},
   "outputs": [
    {
     "data": {
      "text/plain": [
       "False"
      ]
     },
     "execution_count": 27,
     "metadata": {},
     "output_type": "execute_result"
    }
   ],
   "source": [
    "\"12.3\".isdigit() "
   ]
  },
  {
   "cell_type": "code",
   "execution_count": 28,
   "id": "b1163533-89ab-494e-bc93-b35279450457",
   "metadata": {},
   "outputs": [
    {
     "data": {
      "text/plain": [
       "True"
      ]
     },
     "execution_count": 28,
     "metadata": {},
     "output_type": "execute_result"
    }
   ],
   "source": [
    "\"123456\".isdigit() "
   ]
  },
  {
   "cell_type": "code",
   "execution_count": null,
   "id": "dfbc68b9-6cfa-4cc0-a62c-eef95a375544",
   "metadata": {},
   "outputs": [],
   "source": [
    "17.Returns True if string is a valid identifier."
   ]
  },
  {
   "cell_type": "code",
   "execution_count": 29,
   "id": "95e7f174-1583-43ca-9aaa-1415c6d91a84",
   "metadata": {},
   "outputs": [
    {
     "data": {
      "text/plain": [
       "True"
      ]
     },
     "execution_count": 29,
     "metadata": {},
     "output_type": "execute_result"
    }
   ],
   "source": [
    "\"my_var\".isidentifier()"
   ]
  },
  {
   "cell_type": "code",
   "execution_count": 30,
   "id": "491a4d5e-38d5-41a2-ab38-0cb0545015ab",
   "metadata": {},
   "outputs": [
    {
     "data": {
      "text/plain": [
       "False"
      ]
     },
     "execution_count": 30,
     "metadata": {},
     "output_type": "execute_result"
    }
   ],
   "source": [
    "\"3value\".isidentifier() "
   ]
  },
  {
   "cell_type": "code",
   "execution_count": null,
   "id": "2dfd384b-a034-433c-b40c-d15acdfb0f3c",
   "metadata": {},
   "outputs": [],
   "source": [
    "18.Returns True if all characters are lowercase."
   ]
  },
  {
   "cell_type": "code",
   "execution_count": 31,
   "id": "a6df4803-af98-449d-8693-7d898b72a5e8",
   "metadata": {},
   "outputs": [
    {
     "data": {
      "text/plain": [
       "False"
      ]
     },
     "execution_count": 31,
     "metadata": {},
     "output_type": "execute_result"
    }
   ],
   "source": [
    "\"Hello\".islower() "
   ]
  },
  {
   "cell_type": "code",
   "execution_count": null,
   "id": "6bdac470-e403-483d-9b99-fb39790048fc",
   "metadata": {},
   "outputs": [],
   "source": [
    "19.Returns True if all characters are numeric."
   ]
  },
  {
   "cell_type": "code",
   "execution_count": 32,
   "id": "56b27854-f6fc-4507-b1cd-090b9df45237",
   "metadata": {},
   "outputs": [
    {
     "data": {
      "text/plain": [
       "True"
      ]
     },
     "execution_count": 32,
     "metadata": {},
     "output_type": "execute_result"
    }
   ],
   "source": [
    "\"123\".isnumeric() "
   ]
  },
  {
   "cell_type": "code",
   "execution_count": 33,
   "id": "0fcaf83b-d721-432b-abdc-403639d705f0",
   "metadata": {},
   "outputs": [
    {
     "data": {
      "text/plain": [
       "False"
      ]
     },
     "execution_count": 33,
     "metadata": {},
     "output_type": "execute_result"
    }
   ],
   "source": [
    "\"123abc\".isnumeric() "
   ]
  },
  {
   "cell_type": "code",
   "execution_count": null,
   "id": "ab72945f-c8bd-411d-8ff5-80b25440b281",
   "metadata": {},
   "outputs": [],
   "source": [
    "20.Returns True if all characters are printable."
   ]
  },
  {
   "cell_type": "code",
   "execution_count": 34,
   "id": "0a287a0b-d42c-4c34-a72c-207f690c5f00",
   "metadata": {},
   "outputs": [
    {
     "data": {
      "text/plain": [
       "True"
      ]
     },
     "execution_count": 34,
     "metadata": {},
     "output_type": "execute_result"
    }
   ],
   "source": [
    "\"Hello123!\".isprintable() "
   ]
  },
  {
   "cell_type": "code",
   "execution_count": 35,
   "id": "767bdeca-1623-4da7-8254-f650a0b7a1e3",
   "metadata": {},
   "outputs": [
    {
     "data": {
      "text/plain": [
       "False"
      ]
     },
     "execution_count": 35,
     "metadata": {},
     "output_type": "execute_result"
    }
   ],
   "source": [
    "\"Line\\nBreak\".isprintable()"
   ]
  },
  {
   "cell_type": "code",
   "execution_count": null,
   "id": "686ddb82-dc9d-4d42-ae3e-49ff77750488",
   "metadata": {},
   "outputs": [],
   "source": [
    "21.Returns True if all characters are whitespace."
   ]
  },
  {
   "cell_type": "code",
   "execution_count": 36,
   "id": "523d8370-93d2-4a54-b3cb-2cc86ec21974",
   "metadata": {},
   "outputs": [
    {
     "data": {
      "text/plain": [
       "True"
      ]
     },
     "execution_count": 36,
     "metadata": {},
     "output_type": "execute_result"
    }
   ],
   "source": [
    "\"   \".isspace()   "
   ]
  },
  {
   "cell_type": "code",
   "execution_count": 37,
   "id": "c00ce5bf-79a9-4433-9e6e-3b038ea9ceb2",
   "metadata": {},
   "outputs": [
    {
     "data": {
      "text/plain": [
       "False"
      ]
     },
     "execution_count": 37,
     "metadata": {},
     "output_type": "execute_result"
    }
   ],
   "source": [
    "\"abc\".isspace() "
   ]
  },
  {
   "cell_type": "code",
   "execution_count": null,
   "id": "c943be4d-64d9-4231-95ea-28cae899e272",
   "metadata": {},
   "outputs": [],
   "source": [
    "22.Returns True if the string is titlecased."
   ]
  },
  {
   "cell_type": "code",
   "execution_count": 38,
   "id": "1149497a-42f6-48ab-8f23-ca097a3285c4",
   "metadata": {},
   "outputs": [
    {
     "data": {
      "text/plain": [
       "True"
      ]
     },
     "execution_count": 38,
     "metadata": {},
     "output_type": "execute_result"
    }
   ],
   "source": [
    "\"Hello World\".istitle()  "
   ]
  },
  {
   "cell_type": "code",
   "execution_count": 39,
   "id": "8a42bf6a-1c96-476e-a841-30de3252b8aa",
   "metadata": {},
   "outputs": [
    {
     "data": {
      "text/plain": [
       "False"
      ]
     },
     "execution_count": 39,
     "metadata": {},
     "output_type": "execute_result"
    }
   ],
   "source": [
    "\"123\".istitle() "
   ]
  },
  {
   "cell_type": "code",
   "execution_count": null,
   "id": "a6b106a0-8642-471f-a004-8e5605c551c6",
   "metadata": {},
   "outputs": [],
   "source": [
    "23.Returns True if all characters are uppercase."
   ]
  },
  {
   "cell_type": "code",
   "execution_count": 40,
   "id": "dbaf16c1-9c62-4bbb-bc52-9da33ddc0b29",
   "metadata": {},
   "outputs": [
    {
     "data": {
      "text/plain": [
       "True"
      ]
     },
     "execution_count": 40,
     "metadata": {},
     "output_type": "execute_result"
    }
   ],
   "source": [
    "\"HELLO\".isupper() "
   ]
  },
  {
   "cell_type": "code",
   "execution_count": 41,
   "id": "57588926-86ed-4bee-8e77-b941e23d2214",
   "metadata": {},
   "outputs": [
    {
     "data": {
      "text/plain": [
       "False"
      ]
     },
     "execution_count": 41,
     "metadata": {},
     "output_type": "execute_result"
    }
   ],
   "source": [
    "\"Hello\".isupper() "
   ]
  },
  {
   "cell_type": "code",
   "execution_count": null,
   "id": "06e0e000-00ef-4d59-bb47-9c7e07616950",
   "metadata": {},
   "outputs": [],
   "source": [
    "24.Joins elements of an iterable with the string as a separator."
   ]
  },
  {
   "cell_type": "code",
   "execution_count": 42,
   "id": "a006db17-e0dc-44fc-a18b-0ac5753488df",
   "metadata": {},
   "outputs": [
    {
     "data": {
      "text/plain": [
       "'Python is awesome'"
      ]
     },
     "execution_count": 42,
     "metadata": {},
     "output_type": "execute_result"
    }
   ],
   "source": [
    "\" \".join([\"Python\", \"is\", \"awesome\"])"
   ]
  },
  {
   "cell_type": "code",
   "execution_count": 43,
   "id": "558876bb-fbdb-4bf9-8baf-e5bfa67aa082",
   "metadata": {},
   "outputs": [
    {
     "data": {
      "text/plain": [
       "'2025-07-18'"
      ]
     },
     "execution_count": 43,
     "metadata": {},
     "output_type": "execute_result"
    }
   ],
   "source": [
    "\"-\".join([\"2025\", \"07\", \"18\"])"
   ]
  },
  {
   "cell_type": "code",
   "execution_count": null,
   "id": "c839db7d-918f-4230-80c8-04f8c6a89824",
   "metadata": {},
   "outputs": [],
   "source": [
    "25.Left-justifies the string."
   ]
  },
  {
   "cell_type": "code",
   "execution_count": 44,
   "id": "6e15e345-8536-4747-9796-204f4a5bd8e6",
   "metadata": {},
   "outputs": [
    {
     "data": {
      "text/plain": [
       "'Python----'"
      ]
     },
     "execution_count": 44,
     "metadata": {},
     "output_type": "execute_result"
    }
   ],
   "source": [
    "\"Python\".ljust(10, '-') "
   ]
  },
  {
   "cell_type": "code",
   "execution_count": 45,
   "id": "8d822b18-1cfe-49db-8df2-4d9c2eb7551b",
   "metadata": {},
   "outputs": [
    {
     "data": {
      "text/plain": [
       "'42000'"
      ]
     },
     "execution_count": 45,
     "metadata": {},
     "output_type": "execute_result"
    }
   ],
   "source": [
    "\"42\".ljust(5, '0') "
   ]
  },
  {
   "cell_type": "code",
   "execution_count": null,
   "id": "11e66499-16b1-4f8e-b495-ba6540552701",
   "metadata": {},
   "outputs": [],
   "source": [
    "26.Converts to lowercase."
   ]
  },
  {
   "cell_type": "code",
   "execution_count": 46,
   "id": "c84bda99-3d01-46f2-93d0-fb29650d8aaa",
   "metadata": {},
   "outputs": [
    {
     "data": {
      "text/plain": [
       "'hello'"
      ]
     },
     "execution_count": 46,
     "metadata": {},
     "output_type": "execute_result"
    }
   ],
   "source": [
    "\"HELLO\".lower()  "
   ]
  },
  {
   "cell_type": "code",
   "execution_count": null,
   "id": "b32cdd26-048c-402f-b8bc-7380f01220a5",
   "metadata": {},
   "outputs": [],
   "source": [
    "27.Removes leading characters (default: whitespace)."
   ]
  },
  {
   "cell_type": "code",
   "execution_count": 47,
   "id": "26aa2634-e93c-4d83-b6a8-3297d7c2487e",
   "metadata": {},
   "outputs": [
    {
     "data": {
      "text/plain": [
       "'Hello'"
      ]
     },
     "execution_count": 47,
     "metadata": {},
     "output_type": "execute_result"
    }
   ],
   "source": [
    "\"   Hello\".lstrip() "
   ]
  },
  {
   "cell_type": "code",
   "execution_count": null,
   "id": "9adc2cf6-7794-4fec-95b1-793baf51c314",
   "metadata": {},
   "outputs": [],
   "source": [
    "28.Returns a translation table."
   ]
  },
  {
   "cell_type": "code",
   "execution_count": 48,
   "id": "fe4c2097-8934-49af-955a-de72f8095e2a",
   "metadata": {},
   "outputs": [
    {
     "data": {
      "text/plain": [
       "'123123'"
      ]
     },
     "execution_count": 48,
     "metadata": {},
     "output_type": "execute_result"
    }
   ],
   "source": [
    "trans = str.maketrans(\"abc\", \"123\")\n",
    "\"abcabc\".translate(trans)"
   ]
  },
  {
   "cell_type": "code",
   "execution_count": null,
   "id": "518b9b64-3e52-4dc3-9e82-a3859212486f",
   "metadata": {},
   "outputs": [],
   "source": [
    "29.Splits the string at the first occurrence of sep."
   ]
  },
  {
   "cell_type": "code",
   "execution_count": 49,
   "id": "56d2d652-2205-4480-8528-09f598f51f24",
   "metadata": {},
   "outputs": [
    {
     "data": {
      "text/plain": [
       "('key', '=', 'value')"
      ]
     },
     "execution_count": 49,
     "metadata": {},
     "output_type": "execute_result"
    }
   ],
   "source": [
    "\"key=value\".partition(\"=\")"
   ]
  },
  {
   "cell_type": "code",
   "execution_count": null,
   "id": "a0be8e7d-76ba-4515-b9f7-688410757b6c",
   "metadata": {},
   "outputs": [],
   "source": [
    "30.Removes the specified prefix if present."
   ]
  },
  {
   "cell_type": "code",
   "execution_count": 50,
   "id": "96e0fe2f-408d-4e0a-85ba-25b0789bcbe1",
   "metadata": {},
   "outputs": [
    {
     "data": {
      "text/plain": [
       "'happy'"
      ]
     },
     "execution_count": 50,
     "metadata": {},
     "output_type": "execute_result"
    }
   ],
   "source": [
    "\"unhappy\".removeprefix(\"un\") "
   ]
  },
  {
   "cell_type": "code",
   "execution_count": null,
   "id": "f8628f72-40e7-493c-823a-772a95c32037",
   "metadata": {},
   "outputs": [],
   "source": [
    "31.Removes the specified suffix if present."
   ]
  },
  {
   "cell_type": "code",
   "execution_count": 51,
   "id": "eab53938-70a9-48c7-bd3a-ddb7d7351d9b",
   "metadata": {},
   "outputs": [
    {
     "data": {
      "text/plain": [
       "'filename'"
      ]
     },
     "execution_count": 51,
     "metadata": {},
     "output_type": "execute_result"
    }
   ],
   "source": [
    "\"filename.txt\".removesuffix(\".txt\")  "
   ]
  },
  {
   "cell_type": "code",
   "execution_count": null,
   "id": "df4b6c22-282d-4860-9f5e-1d70b9303891",
   "metadata": {},
   "outputs": [],
   "source": [
    "32.Returns a copy with all occurrences of a substring replaced."
   ]
  },
  {
   "cell_type": "code",
   "execution_count": 52,
   "id": "6f63aa25-c3df-4fb6-a45e-655b41e4f275",
   "metadata": {},
   "outputs": [
    {
     "data": {
      "text/plain": [
       "'bonono'"
      ]
     },
     "execution_count": 52,
     "metadata": {},
     "output_type": "execute_result"
    }
   ],
   "source": [
    "\"banana\".replace(\"a\", \"o\")"
   ]
  },
  {
   "cell_type": "code",
   "execution_count": 53,
   "id": "44027ce8-0088-40fa-8bce-1e69d2fcdd37",
   "metadata": {},
   "outputs": [
    {
     "data": {
      "text/plain": [
       "'heLLo world'"
      ]
     },
     "execution_count": 53,
     "metadata": {},
     "output_type": "execute_result"
    }
   ],
   "source": [
    "\"hello world\".replace(\"l\", \"L\", 2)"
   ]
  },
  {
   "cell_type": "code",
   "execution_count": null,
   "id": "223b9249-29de-4af0-be18-9c1ca5690b2d",
   "metadata": {},
   "outputs": [],
   "source": [
    "33.Returns the highest index of the substring."
   ]
  },
  {
   "cell_type": "code",
   "execution_count": 54,
   "id": "8a303c83-1e4b-4b11-89f7-78351046684e",
   "metadata": {},
   "outputs": [
    {
     "data": {
      "text/plain": [
       "7"
      ]
     },
     "execution_count": 54,
     "metadata": {},
     "output_type": "execute_result"
    }
   ],
   "source": [
    "\"abracadabra\".rfind(\"abra\")"
   ]
  },
  {
   "cell_type": "code",
   "execution_count": 55,
   "id": "a9aabf14-5e57-4973-aae9-d41f471bfd74",
   "metadata": {},
   "outputs": [
    {
     "data": {
      "text/plain": [
       "9"
      ]
     },
     "execution_count": 55,
     "metadata": {},
     "output_type": "execute_result"
    }
   ],
   "source": [
    "\"hello hello\".rfind(\"lo\")"
   ]
  },
  {
   "cell_type": "code",
   "execution_count": null,
   "id": "ef95bc77-0c6a-4ab9-a436-5b05076dafe1",
   "metadata": {},
   "outputs": [],
   "source": [
    "34.Like rfind() but raises ValueError if not found."
   ]
  },
  {
   "cell_type": "code",
   "execution_count": 56,
   "id": "8603d8c5-6600-4f42-aff0-e5d08c72adfd",
   "metadata": {},
   "outputs": [
    {
     "data": {
      "text/plain": [
       "7"
      ]
     },
     "execution_count": 56,
     "metadata": {},
     "output_type": "execute_result"
    }
   ],
   "source": [
    "\"hello world\".rindex(\"o\")  "
   ]
  },
  {
   "cell_type": "code",
   "execution_count": null,
   "id": "58659017-832f-4b7a-8710-b64b7a1c2bef",
   "metadata": {},
   "outputs": [],
   "source": [
    "35.Right-justifies the string."
   ]
  },
  {
   "cell_type": "code",
   "execution_count": 57,
   "id": "c9e48ea0-b977-4c4d-8914-7744dae8f0d9",
   "metadata": {},
   "outputs": [
    {
     "data": {
      "text/plain": [
       "'   42'"
      ]
     },
     "execution_count": 57,
     "metadata": {},
     "output_type": "execute_result"
    }
   ],
   "source": [
    "\"42\".rjust(5)  "
   ]
  },
  {
   "cell_type": "code",
   "execution_count": null,
   "id": "331dcbcb-048f-4f63-abe5-da3546724fb0",
   "metadata": {},
   "outputs": [],
   "source": [
    "36.Splits the string from the right."
   ]
  },
  {
   "cell_type": "code",
   "execution_count": 58,
   "id": "5af0857f-0c9d-426a-8212-1c555b500c1d",
   "metadata": {},
   "outputs": [
    {
     "data": {
      "text/plain": [
       "['one', 'two', 'three']"
      ]
     },
     "execution_count": 58,
     "metadata": {},
     "output_type": "execute_result"
    }
   ],
   "source": [
    "\"one two three\".rsplit()"
   ]
  },
  {
   "cell_type": "code",
   "execution_count": 59,
   "id": "b4bfc23f-c16c-4a59-870b-c804ea0842d0",
   "metadata": {},
   "outputs": [
    {
     "data": {
      "text/plain": [
       "['apple,banana', 'cherry']"
      ]
     },
     "execution_count": 59,
     "metadata": {},
     "output_type": "execute_result"
    }
   ],
   "source": [
    "\"apple,banana,cherry\".rsplit(\",\", 1)"
   ]
  },
  {
   "cell_type": "code",
   "execution_count": null,
   "id": "cc5b8b11-2166-4417-8e80-3aef141ceb1c",
   "metadata": {},
   "outputs": [],
   "source": [
    "37.Removes trailing characters (default: whitespace)."
   ]
  },
  {
   "cell_type": "code",
   "execution_count": 60,
   "id": "73290280-0e9f-4691-be74-8e6441c49958",
   "metadata": {},
   "outputs": [
    {
     "data": {
      "text/plain": [
       "'hello'"
      ]
     },
     "execution_count": 60,
     "metadata": {},
     "output_type": "execute_result"
    }
   ],
   "source": [
    "\"hello\\n\\t\".rstrip()"
   ]
  },
  {
   "cell_type": "code",
   "execution_count": 61,
   "id": "97cc2f7c-d04b-4956-8197-b4b3edfc8cba",
   "metadata": {},
   "outputs": [
    {
     "data": {
      "text/plain": [
       "'banan'"
      ]
     },
     "execution_count": 61,
     "metadata": {},
     "output_type": "execute_result"
    }
   ],
   "source": [
    "\"bananaaaa\".rstrip(\"a\") "
   ]
  },
  {
   "cell_type": "code",
   "execution_count": null,
   "id": "787f619c-f32b-421b-a745-aa4fcbc31b53",
   "metadata": {},
   "outputs": [],
   "source": [
    "38.Splits the string."
   ]
  },
  {
   "cell_type": "code",
   "execution_count": 62,
   "id": "c87aca94-da5e-42f6-8c05-c859e5186026",
   "metadata": {},
   "outputs": [
    {
     "data": {
      "text/plain": [
       "['Learn', 'Python', 'Now']"
      ]
     },
     "execution_count": 62,
     "metadata": {},
     "output_type": "execute_result"
    }
   ],
   "source": [
    "\"Learn Python Now\".split()"
   ]
  },
  {
   "cell_type": "code",
   "execution_count": 63,
   "id": "46898571-0517-45c2-bfd0-b30ef6ca204d",
   "metadata": {},
   "outputs": [
    {
     "data": {
      "text/plain": [
       "['apple', 'banana', 'cherry']"
      ]
     },
     "execution_count": 63,
     "metadata": {},
     "output_type": "execute_result"
    }
   ],
   "source": [
    "\"apple,banana,cherry\".split(\",\")"
   ]
  },
  {
   "cell_type": "code",
   "execution_count": null,
   "id": "aa3cd8af-1e77-486b-8790-3c2849d1f77f",
   "metadata": {},
   "outputs": [],
   "source": [
    "39.Splits at line breaks."
   ]
  },
  {
   "cell_type": "code",
   "execution_count": 64,
   "id": "d78a395d-eb57-43c7-beb8-fed42c00ceea",
   "metadata": {},
   "outputs": [
    {
     "data": {
      "text/plain": [
       "['Line1', 'Line2', 'Line3']"
      ]
     },
     "execution_count": 64,
     "metadata": {},
     "output_type": "execute_result"
    }
   ],
   "source": [
    "\"Line1\\nLine2\\nLine3\".splitlines()"
   ]
  },
  {
   "cell_type": "code",
   "execution_count": null,
   "id": "45507b2a-f0e9-4879-b5e9-27fb0d3085d4",
   "metadata": {},
   "outputs": [],
   "source": [
    "40.Returns True if the string starts with the prefix."
   ]
  },
  {
   "cell_type": "code",
   "execution_count": 65,
   "id": "bc8f10c2-e93a-407e-adc9-4376941ea380",
   "metadata": {},
   "outputs": [
    {
     "data": {
      "text/plain": [
       "True"
      ]
     },
     "execution_count": 65,
     "metadata": {},
     "output_type": "execute_result"
    }
   ],
   "source": [
    "\"Python\".startswith(\"Py\")"
   ]
  },
  {
   "cell_type": "code",
   "execution_count": 66,
   "id": "2dc1c177-6080-4912-827d-0f735c15518e",
   "metadata": {},
   "outputs": [
    {
     "data": {
      "text/plain": [
       "False"
      ]
     },
     "execution_count": 66,
     "metadata": {},
     "output_type": "execute_result"
    }
   ],
   "source": [
    "\"Python\".startswith(\"py\") "
   ]
  },
  {
   "cell_type": "code",
   "execution_count": null,
   "id": "e15becba-afe1-4bc4-81bc-038ce2e9a541",
   "metadata": {},
   "outputs": [],
   "source": [
    "41.Removes leading and trailing characters."
   ]
  },
  {
   "cell_type": "code",
   "execution_count": 67,
   "id": "5e0cb6e5-63df-4853-a9af-6049cb2ad4a1",
   "metadata": {},
   "outputs": [
    {
     "data": {
      "text/plain": [
       "'hello world'"
      ]
     },
     "execution_count": 67,
     "metadata": {},
     "output_type": "execute_result"
    }
   ],
   "source": [
    "\"   hello world   \".strip() "
   ]
  },
  {
   "cell_type": "code",
   "execution_count": 68,
   "id": "1f814351-17cb-4b09-9211-8c5b06d4cb60",
   "metadata": {},
   "outputs": [
    {
     "data": {
      "text/plain": [
       "'Python'"
      ]
     },
     "execution_count": 68,
     "metadata": {},
     "output_type": "execute_result"
    }
   ],
   "source": [
    "\"abcPythonabc\".strip(\"abc\")"
   ]
  },
  {
   "cell_type": "code",
   "execution_count": null,
   "id": "a01e9935-34bb-46ca-bf64-a90b1cd9227a",
   "metadata": {},
   "outputs": [],
   "source": [
    "42.Swaps case of all characters."
   ]
  },
  {
   "cell_type": "code",
   "execution_count": 69,
   "id": "03e43455-c9dc-494e-b433-9daeb0990e28",
   "metadata": {},
   "outputs": [
    {
     "data": {
      "text/plain": [
       "'pYTHON'"
      ]
     },
     "execution_count": 69,
     "metadata": {},
     "output_type": "execute_result"
    }
   ],
   "source": [
    "\"Python\".swapcase() "
   ]
  },
  {
   "cell_type": "code",
   "execution_count": 70,
   "id": "2f577391-dc5d-4c57-b1b4-3973edd636b1",
   "metadata": {},
   "outputs": [
    {
     "data": {
      "text/plain": [
       "'123ABCabc'"
      ]
     },
     "execution_count": 70,
     "metadata": {},
     "output_type": "execute_result"
    }
   ],
   "source": [
    "\"123abcABC\".swapcase()  "
   ]
  },
  {
   "cell_type": "code",
   "execution_count": null,
   "id": "eadf84d5-8582-46ac-a65e-30b5c1436cce",
   "metadata": {},
   "outputs": [],
   "source": [
    "43.Returns a titlecased version of the string."
   ]
  },
  {
   "cell_type": "code",
   "execution_count": 71,
   "id": "4cfd41f5-c075-4c9b-b891-423dfc88f381",
   "metadata": {},
   "outputs": [
    {
     "data": {
      "text/plain": [
       "'Welcome To Python'"
      ]
     },
     "execution_count": 71,
     "metadata": {},
     "output_type": "execute_result"
    }
   ],
   "source": [
    "\"welcome to PYTHON\".title() "
   ]
  },
  {
   "cell_type": "code",
   "execution_count": 72,
   "id": "32e81807-b5b5-4e4a-83e2-333eaef90a63",
   "metadata": {},
   "outputs": [
    {
     "data": {
      "text/plain": [
       "'123 Hello'"
      ]
     },
     "execution_count": 72,
     "metadata": {},
     "output_type": "execute_result"
    }
   ],
   "source": [
    "\"123 hello\".title() "
   ]
  },
  {
   "cell_type": "code",
   "execution_count": null,
   "id": "40ad8623-ee43-46a7-9106-31237996f915",
   "metadata": {},
   "outputs": [],
   "source": [
    "44.Returns a translated string."
   ]
  },
  {
   "cell_type": "code",
   "execution_count": 73,
   "id": "a5787515-d06b-44fa-9a53-070dd37079da",
   "metadata": {},
   "outputs": [
    {
     "data": {
      "text/plain": [
       "'h2ll4 w4rld'"
      ]
     },
     "execution_count": 73,
     "metadata": {},
     "output_type": "execute_result"
    }
   ],
   "source": [
    "table = str.maketrans(\"aeiou\", \"12345\")\n",
    "\"hello world\".translate(table)"
   ]
  },
  {
   "cell_type": "code",
   "execution_count": null,
   "id": "da0286b1-acae-45c5-8b43-41f3f724edaa",
   "metadata": {},
   "outputs": [],
   "source": [
    "45.Converts all characters to uppercase."
   ]
  },
  {
   "cell_type": "code",
   "execution_count": 74,
   "id": "03af7eb8-90c6-4d4e-b364-9561f6e6ded8",
   "metadata": {},
   "outputs": [
    {
     "data": {
      "text/plain": [
       "'PYTHON'"
      ]
     },
     "execution_count": 74,
     "metadata": {},
     "output_type": "execute_result"
    }
   ],
   "source": [
    "\"python\".upper() "
   ]
  },
  {
   "cell_type": "code",
   "execution_count": null,
   "id": "fb464cef-1c8e-4012-b2d4-9708be142c08",
   "metadata": {},
   "outputs": [],
   "source": [
    "46.Pads the string on the left with zeros."
   ]
  },
  {
   "cell_type": "code",
   "execution_count": 75,
   "id": "3abb9f6f-ca3b-481b-b3fb-57b0dcd48374",
   "metadata": {},
   "outputs": [
    {
     "data": {
      "text/plain": [
       "'00042'"
      ]
     },
     "execution_count": 75,
     "metadata": {},
     "output_type": "execute_result"
    }
   ],
   "source": [
    "\"42\".zfill(5) "
   ]
  },
  {
   "cell_type": "code",
   "execution_count": 76,
   "id": "f5058cb8-edd2-4958-8cb7-f4661d90c1e1",
   "metadata": {},
   "outputs": [
    {
     "data": {
      "text/plain": [
       "'000abc'"
      ]
     },
     "execution_count": 76,
     "metadata": {},
     "output_type": "execute_result"
    }
   ],
   "source": [
    "\"abc\".zfill(6) "
   ]
  },
  {
   "cell_type": "code",
   "execution_count": null,
   "id": "f2bb8409-7bf7-4015-8fc0-3009e99ec438",
   "metadata": {},
   "outputs": [],
   "source": []
  }
 ],
 "metadata": {
  "kernelspec": {
   "display_name": "Python 3 (ipykernel)",
   "language": "python",
   "name": "python3"
  },
  "language_info": {
   "codemirror_mode": {
    "name": "ipython",
    "version": 3
   },
   "file_extension": ".py",
   "mimetype": "text/x-python",
   "name": "python",
   "nbconvert_exporter": "python",
   "pygments_lexer": "ipython3",
   "version": "3.12.7"
  }
 },
 "nbformat": 4,
 "nbformat_minor": 5
}
